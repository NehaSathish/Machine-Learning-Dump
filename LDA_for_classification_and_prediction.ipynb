{
  "nbformat": 4,
  "nbformat_minor": 0,
  "metadata": {
    "colab": {
      "name": "LDA for classification and prediction.ipynb",
      "provenance": []
    },
    "kernelspec": {
      "name": "python3",
      "display_name": "Python 3"
    }
  },
  "cells": [
    {
      "cell_type": "code",
      "metadata": {
        "id": "QdlJI-LPPl5A"
      },
      "source": [
        "#bmd classification"
      ],
      "execution_count": null,
      "outputs": []
    },
    {
      "cell_type": "code",
      "metadata": {
        "id": "3HT9XRU1nf0_"
      },
      "source": [
        "import pandas as pd\n",
        "import numpy as np"
      ],
      "execution_count": null,
      "outputs": []
    },
    {
      "cell_type": "code",
      "metadata": {
        "colab": {
          "base_uri": "https://localhost:8080/",
          "height": 204
        },
        "id": "os32AwaSo9HK",
        "outputId": "7220130d-5fd6-40c9-d7fa-34f0d13af38c"
      },
      "source": [
        "df = pd.read_csv('/content/drive/MyDrive/bmd.csv')\n",
        "df.head()"
      ],
      "execution_count": null,
      "outputs": [
        {
          "output_type": "execute_result",
          "data": {
            "text/html": [
              "<div>\n",
              "<style scoped>\n",
              "    .dataframe tbody tr th:only-of-type {\n",
              "        vertical-align: middle;\n",
              "    }\n",
              "\n",
              "    .dataframe tbody tr th {\n",
              "        vertical-align: top;\n",
              "    }\n",
              "\n",
              "    .dataframe thead th {\n",
              "        text-align: right;\n",
              "    }\n",
              "</style>\n",
              "<table border=\"1\" class=\"dataframe\">\n",
              "  <thead>\n",
              "    <tr style=\"text-align: right;\">\n",
              "      <th></th>\n",
              "      <th>id</th>\n",
              "      <th>age</th>\n",
              "      <th>sex</th>\n",
              "      <th>fracture</th>\n",
              "      <th>weight_kg</th>\n",
              "      <th>height_cm</th>\n",
              "      <th>medication</th>\n",
              "      <th>waiting_time</th>\n",
              "      <th>bmd</th>\n",
              "    </tr>\n",
              "  </thead>\n",
              "  <tbody>\n",
              "    <tr>\n",
              "      <th>0</th>\n",
              "      <td>469</td>\n",
              "      <td>57.052768</td>\n",
              "      <td>F</td>\n",
              "      <td>no fracture</td>\n",
              "      <td>64.0</td>\n",
              "      <td>155.5</td>\n",
              "      <td>Anticonvulsant</td>\n",
              "      <td>18</td>\n",
              "      <td>0.8793</td>\n",
              "    </tr>\n",
              "    <tr>\n",
              "      <th>1</th>\n",
              "      <td>8724</td>\n",
              "      <td>75.741225</td>\n",
              "      <td>F</td>\n",
              "      <td>no fracture</td>\n",
              "      <td>78.0</td>\n",
              "      <td>162.0</td>\n",
              "      <td>No medication</td>\n",
              "      <td>56</td>\n",
              "      <td>0.7946</td>\n",
              "    </tr>\n",
              "    <tr>\n",
              "      <th>2</th>\n",
              "      <td>6736</td>\n",
              "      <td>70.778900</td>\n",
              "      <td>M</td>\n",
              "      <td>no fracture</td>\n",
              "      <td>73.0</td>\n",
              "      <td>170.5</td>\n",
              "      <td>No medication</td>\n",
              "      <td>10</td>\n",
              "      <td>0.9067</td>\n",
              "    </tr>\n",
              "    <tr>\n",
              "      <th>3</th>\n",
              "      <td>24180</td>\n",
              "      <td>78.247175</td>\n",
              "      <td>F</td>\n",
              "      <td>no fracture</td>\n",
              "      <td>60.0</td>\n",
              "      <td>148.0</td>\n",
              "      <td>No medication</td>\n",
              "      <td>14</td>\n",
              "      <td>0.7112</td>\n",
              "    </tr>\n",
              "    <tr>\n",
              "      <th>4</th>\n",
              "      <td>17072</td>\n",
              "      <td>54.191877</td>\n",
              "      <td>M</td>\n",
              "      <td>no fracture</td>\n",
              "      <td>55.0</td>\n",
              "      <td>161.0</td>\n",
              "      <td>No medication</td>\n",
              "      <td>20</td>\n",
              "      <td>0.7909</td>\n",
              "    </tr>\n",
              "  </tbody>\n",
              "</table>\n",
              "</div>"
            ],
            "text/plain": [
              "      id        age sex  ...      medication  waiting_time     bmd\n",
              "0    469  57.052768   F  ...  Anticonvulsant            18  0.8793\n",
              "1   8724  75.741225   F  ...   No medication            56  0.7946\n",
              "2   6736  70.778900   M  ...   No medication            10  0.9067\n",
              "3  24180  78.247175   F  ...   No medication            14  0.7112\n",
              "4  17072  54.191877   M  ...   No medication            20  0.7909\n",
              "\n",
              "[5 rows x 9 columns]"
            ]
          },
          "metadata": {
            "tags": []
          },
          "execution_count": 27
        }
      ]
    },
    {
      "cell_type": "code",
      "metadata": {
        "id": "-n2T33kwu0Pv"
      },
      "source": [
        "fracture_mean, no_fracture_mean = df.groupby('fracture')['bmd'].mean()\n",
        "sigma = np.sqrt((((df['bmd'][df['fracture'] == 'fracture'] - fracture_mean)**2).sum()+\n",
        "        ((df['bmd'][df['fracture'] == 'no fracture'] - no_fracture_mean)**2).sum())/(len(df)-2))"
      ],
      "execution_count": null,
      "outputs": []
    },
    {
      "cell_type": "code",
      "metadata": {
        "id": "dYkAY0F4230F",
        "colab": {
          "base_uri": "https://localhost:8080/"
        },
        "outputId": "a95714ac-f4ea-4878-b9d3-28a1cf85bcea"
      },
      "source": [
        "freq_table = df.fracture.value_counts()\n",
        "pr_fracture = freq_table['fracture']/sum(freq_table)\n",
        "pr_no_fracture = freq_table['no fracture']/sum(freq_table)\n",
        "pr_fracture, pr_no_fracture"
      ],
      "execution_count": null,
      "outputs": [
        {
          "output_type": "execute_result",
          "data": {
            "text/plain": [
              "(0.2958579881656805, 0.7041420118343196)"
            ]
          },
          "metadata": {
            "tags": []
          },
          "execution_count": 29
        }
      ]
    },
    {
      "cell_type": "code",
      "metadata": {
        "id": "6agvEzNZ5D8v",
        "colab": {
          "base_uri": "https://localhost:8080/"
        },
        "outputId": "77bf331a-d58f-4a76-a6d9-6dd5ba3f7d14"
      },
      "source": [
        "bmd = 0.54\n",
        "bmd_fracture = bmd * fracture_mean/(sigma**2) - (fracture_mean**2/(2 * sigma**2) )+ np.log(pr_fracture)\n",
        "bmd_no_fracture = bmd * no_fracture_mean/(sigma**2) - (no_fracture_mean**2/(2 * sigma**2) )+ np.log(pr_no_fracture)\n",
        "bmd_fracture,bmd_no_fracture"
      ],
      "execution_count": null,
      "outputs": [
        {
          "output_type": "execute_result",
          "data": {
            "text/plain": [
              "(7.1345590344847265, 5.381084103346266)"
            ]
          },
          "metadata": {
            "tags": []
          },
          "execution_count": 30
        }
      ]
    },
    {
      "cell_type": "code",
      "metadata": {
        "colab": {
          "base_uri": "https://localhost:8080/"
        },
        "id": "aSNjRzgg835J",
        "outputId": "0402487c-6ed9-4f17-ccd5-e8ed29afd931"
      },
      "source": [
        "%load_ext rpy2.ipython"
      ],
      "execution_count": null,
      "outputs": [
        {
          "output_type": "stream",
          "text": [
            "/usr/local/lib/python3.6/dist-packages/rpy2/robjects/pandas2ri.py:14: FutureWarning: pandas.core.index is deprecated and will be removed in a future version.  The public classes are available in the top-level namespace.\n",
            "  from pandas.core.index import Index as PandasIndex\n",
            "/usr/local/lib/python3.6/dist-packages/rpy2/robjects/pandas2ri.py:34: UserWarning: pandas >= 1.0 is not supported.\n",
            "  warnings.warn('pandas >= 1.0 is not supported.')\n"
          ],
          "name": "stderr"
        }
      ]
    },
    {
      "cell_type": "code",
      "metadata": {
        "colab": {
          "base_uri": "https://localhost:8080/"
        },
        "id": "b6eVDQ0e8qpg",
        "outputId": "9c20a359-7c1b-49ad-c08b-faa90aae4c76"
      },
      "source": [
        "%%R\n",
        "#libraries that we will need\n",
        "library(MASS) #lda function\n",
        "set.seed(1974) #fix the random generator seed \n",
        "\n",
        "#read the data\n",
        "bmd.data     <- \n",
        "  read.csv(\"https://www.dropbox.com/s/c6mhgatkotuze8o/bmd.csv?dl=1\", \n",
        "           stringsAsFactors = TRUE)\n",
        "#mean bmd for fracture\n",
        "mean.f   <- with(bmd.data, mean(bmd[fracture==\"fracture\"]))  \n",
        "print('Mean',mean.f)\n",
        "#mean bmd for no fracture\n",
        "mean.nf  <- with(bmd.data, mean(bmd[fracture==\"no fracture\"])) \n",
        "#estimate of sigma (see page 141)\n",
        "sigma.bmd <- sqrt(with(bmd.data,\n",
        "                       (sum((bmd[fracture==\"fracture\"] - mean.f)^2) +\n",
        "                       sum((bmd[fracture==\"no fracture\"]- mean.nf)^2))/\n",
        "                    (length(bmd)-2)\n",
        "                    )\n",
        "                  )\n",
        "#probability of fracture/no fracture\n",
        "pr.fracture <- prop.table(table(bmd.data$fracture))\n",
        "    \n",
        "print(c(mean.f, mean.nf, sigma.bmd))\n",
        "## [1] 0.6233080 0.8502454 0.1305394\n",
        "\n",
        "print(pr.fracture)\n",
        "0.54*mean.f/sigma.bmd^2 - mean.f^2/(2*sigma.bmd^2) + log(pr.fracture[1])      "
      ],
      "execution_count": null,
      "outputs": [
        {
          "output_type": "stream",
          "text": [
            "[1] \"Mean\"\n",
            "[1] 0.6233080 0.8502454 0.1305394\n",
            "\n",
            "   fracture no fracture \n",
            "   0.295858    0.704142 \n",
            "fracture \n",
            "7.134559 \n"
          ],
          "name": "stdout"
        }
      ]
    },
    {
      "cell_type": "code",
      "metadata": {
        "id": "2PETbHkfcx2Q"
      },
      "source": [
        "ypred = []\n",
        "for i in range(len(df)):\n",
        "  val = df['bmd'][i]\n",
        "  bmd_fracture = bmd * fracture_mean/(sigma**2) - (fracture_mean**2/(2 * sigma**2) )+ np.log(pr_fracture)\n",
        "  bmd_no_fracture = bmd * no_fracture_mean/(sigma**2) - (no_fracture_mean**2/(2 * sigma**2) )+ np.log(pr_no_fracture)\n",
        "  if bmd_fracture > bmd_no_fracture:\n",
        "    ypred.append('fracture')\n",
        "  else:\n",
        "    ypred.append('no fracture')"
      ],
      "execution_count": null,
      "outputs": []
    },
    {
      "cell_type": "code",
      "metadata": {
        "colab": {
          "base_uri": "https://localhost:8080/"
        },
        "id": "OwNHI1N3dVY0",
        "outputId": "29d03fad-aed7-4e5d-8cae-f2c429151793"
      },
      "source": [
        "from sklearn.metrics import confusion_matrix\n",
        "y = df['fracture']\n",
        "confusion_matrix(y, ypred)"
      ],
      "execution_count": null,
      "outputs": [
        {
          "output_type": "execute_result",
          "data": {
            "text/plain": [
              "array([[ 50,   0],\n",
              "       [119,   0]])"
            ]
          },
          "metadata": {
            "tags": []
          },
          "execution_count": 32
        }
      ]
    },
    {
      "cell_type": "code",
      "metadata": {
        "id": "aVHTfyFfL2UE",
        "colab": {
          "base_uri": "https://localhost:8080/"
        },
        "outputId": "f6cd99b1-7bfd-4fad-94a3-ace08ba45ee0"
      },
      "source": [
        "#Adding more features\n",
        "feature = ['age','bmd']\n",
        "mean_fracture = []\n",
        "mean_no_fracture = []\n",
        "sigmas = [[0]*len(feature)]*len(feature)\n",
        "s = []\n",
        "for i in feature:\n",
        "  mean1, mean2 = df.groupby('fracture')[i].mean()\n",
        "  sigma = np.sqrt((((df[i][df['fracture'] == 'fracture'] - mean1)**2).sum()+\n",
        "        ((df[i][df['fracture'] == 'no fracture'] - mean2)**2).sum())/(len(df)-2))\n",
        "  mean_fracture.append(mean1)\n",
        "  mean_no_fracture.append(mean2)\n",
        "  s.append(sigma)\n",
        "s"
      ],
      "execution_count": null,
      "outputs": [
        {
          "output_type": "execute_result",
          "data": {
            "text/plain": [
              "[11.729425411215116, 0.13053936908061506]"
            ]
          },
          "metadata": {
            "tags": []
          },
          "execution_count": 11
        }
      ]
    },
    {
      "cell_type": "code",
      "metadata": {
        "id": "nhyMK4zq14Wf"
      },
      "source": [
        "sigmas = [[64.43,0],[0,13]]"
      ],
      "execution_count": null,
      "outputs": []
    },
    {
      "cell_type": "code",
      "metadata": {
        "id": "5hDw2F2CyQ4I",
        "colab": {
          "base_uri": "https://localhost:8080/"
        },
        "outputId": "917ed72e-501b-4e1d-8bfc-62ddf6d6f4ca"
      },
      "source": [
        "val = [10,0.54]\n",
        "fracture = np.transpose(val).dot(np.linalg.inv(sigmas)).dot(mean_fracture) - 1/2*np.transpose(mean_fracture).dot(np.linalg.inv(sigmas)).dot(mean_fracture)+pr_fracture\n",
        "no_fracture = np.transpose(val).dot(np.linalg.inv(sigmas)).dot(mean_no_fracture) - 1/2*np.transpose(mean_no_fracture).dot(np.linalg.inv(sigmas)).dot(mean_no_fracture)+pr_no_fracture\n",
        "fracture,no_fracture"
      ],
      "execution_count": null,
      "outputs": [
        {
          "output_type": "execute_result",
          "data": {
            "text/plain": [
              "(-26.64190329980456, -18.738018279545656)"
            ]
          },
          "metadata": {
            "tags": []
          },
          "execution_count": 14
        }
      ]
    },
    {
      "cell_type": "code",
      "metadata": {
        "colab": {
          "base_uri": "https://localhost:8080/"
        },
        "id": "UUuZ0chlxAXO",
        "outputId": "bf39aa3e-a5d3-4d6c-9390-909eb3867dba"
      },
      "source": [
        "%%R\n",
        "library(MASS)\n",
        "lda.model <- lda(fracture~bmd, data=bmd.data)\n",
        "\n",
        "#to classify someone with bmd=-.54 \n",
        "#\n",
        "predict(lda.model, newdata=data.frame(bmd=0.54))$class\n",
        "## [1] fracture\n",
        "## Levels: fracture no fracture\n",
        " #predictions\n",
        "pred.dataset <- predict(lda.model)$class\n",
        "#confusion matrix\n",
        "table(bmd.data$fracture, pred.dataset)"
      ],
      "execution_count": null,
      "outputs": [
        {
          "output_type": "stream",
          "text": [
            "             pred.dataset\n",
            "              fracture no fracture\n",
            "  fracture          34          16\n",
            "  no fracture        9         110\n"
          ],
          "name": "stdout"
        }
      ]
    },
    {
      "cell_type": "code",
      "metadata": {
        "colab": {
          "base_uri": "https://localhost:8080/"
        },
        "id": "U4sHDUKdTPj4",
        "outputId": "13824206-de50-43cd-eac7-ca48b04b494e"
      },
      "source": [
        "%%R\n",
        "lda.model2 <- lda(fracture~bmd+age+weight_kg+height_cm,data=bmd.data)\n",
        "#predictions\n",
        "pred.dataset2 <- predict(lda.model2)$class\n",
        "#confusion matrix\n",
        "table(bmd.data$fracture, pred.dataset2)\n",
        "\n",
        "#library(irr) #for the kappa statistics\n",
        "#kappa2(cbind(bmd.data$fracture, pred.dataset))    #model in 1)\n",
        "# kappa2(cbind(bmd.data$fracture, pred.dataset2))   #current model"
      ],
      "execution_count": null,
      "outputs": [
        {
          "output_type": "stream",
          "text": [
            "             pred.dataset2\n",
            "              fracture no fracture\n",
            "  fracture          35          15\n",
            "  no fracture       11         108\n"
          ],
          "name": "stdout"
        }
      ]
    },
    {
      "cell_type": "code",
      "metadata": {
        "id": "xp9JwgT-P40O"
      },
      "source": [
        "#bdiag"
      ],
      "execution_count": null,
      "outputs": []
    },
    {
      "cell_type": "code",
      "metadata": {
        "colab": {
          "base_uri": "https://localhost:8080/",
          "height": 241
        },
        "id": "F0OQdYUrP8Cx",
        "outputId": "9885ef2e-d2a3-47a8-e266-7309397a28c7"
      },
      "source": [
        "df = pd.read_csv('/content/drive/MyDrive/bdiag.csv')\n",
        "df.head()"
      ],
      "execution_count": null,
      "outputs": [
        {
          "output_type": "execute_result",
          "data": {
            "text/html": [
              "<div>\n",
              "<style scoped>\n",
              "    .dataframe tbody tr th:only-of-type {\n",
              "        vertical-align: middle;\n",
              "    }\n",
              "\n",
              "    .dataframe tbody tr th {\n",
              "        vertical-align: top;\n",
              "    }\n",
              "\n",
              "    .dataframe thead th {\n",
              "        text-align: right;\n",
              "    }\n",
              "</style>\n",
              "<table border=\"1\" class=\"dataframe\">\n",
              "  <thead>\n",
              "    <tr style=\"text-align: right;\">\n",
              "      <th></th>\n",
              "      <th>id</th>\n",
              "      <th>diagnosis</th>\n",
              "      <th>radius_mean</th>\n",
              "      <th>texture_mean</th>\n",
              "      <th>perimeter_mean</th>\n",
              "      <th>area_mean</th>\n",
              "      <th>smoothness_mean</th>\n",
              "      <th>compactness_mean</th>\n",
              "      <th>concavity_mean</th>\n",
              "      <th>concave points_mean</th>\n",
              "      <th>symmetry_mean</th>\n",
              "      <th>fractal_dimension_mean</th>\n",
              "      <th>radius_se</th>\n",
              "      <th>texture_se</th>\n",
              "      <th>perimeter_se</th>\n",
              "      <th>area_se</th>\n",
              "      <th>smoothness_se</th>\n",
              "      <th>compactness_se</th>\n",
              "      <th>concavity_se</th>\n",
              "      <th>concave points_se</th>\n",
              "      <th>symmetry_se</th>\n",
              "      <th>fractal_dimension_se</th>\n",
              "      <th>radius_worst</th>\n",
              "      <th>texture_worst</th>\n",
              "      <th>perimeter_worst</th>\n",
              "      <th>area_worst</th>\n",
              "      <th>smoothness_worst</th>\n",
              "      <th>compactness_worst</th>\n",
              "      <th>concavity_worst</th>\n",
              "      <th>concave points_worst</th>\n",
              "      <th>symmetry_worst</th>\n",
              "      <th>fractal_dimension_worst</th>\n",
              "    </tr>\n",
              "  </thead>\n",
              "  <tbody>\n",
              "    <tr>\n",
              "      <th>0</th>\n",
              "      <td>842302</td>\n",
              "      <td>M</td>\n",
              "      <td>17.99</td>\n",
              "      <td>10.38</td>\n",
              "      <td>122.80</td>\n",
              "      <td>1001.0</td>\n",
              "      <td>0.11840</td>\n",
              "      <td>0.27760</td>\n",
              "      <td>0.3001</td>\n",
              "      <td>0.14710</td>\n",
              "      <td>0.2419</td>\n",
              "      <td>0.07871</td>\n",
              "      <td>1.0950</td>\n",
              "      <td>0.9053</td>\n",
              "      <td>8.589</td>\n",
              "      <td>153.40</td>\n",
              "      <td>0.006399</td>\n",
              "      <td>0.04904</td>\n",
              "      <td>0.05373</td>\n",
              "      <td>0.01587</td>\n",
              "      <td>0.03003</td>\n",
              "      <td>0.006193</td>\n",
              "      <td>25.38</td>\n",
              "      <td>17.33</td>\n",
              "      <td>184.60</td>\n",
              "      <td>2019.0</td>\n",
              "      <td>0.1622</td>\n",
              "      <td>0.6656</td>\n",
              "      <td>0.7119</td>\n",
              "      <td>0.2654</td>\n",
              "      <td>0.4601</td>\n",
              "      <td>0.11890</td>\n",
              "    </tr>\n",
              "    <tr>\n",
              "      <th>1</th>\n",
              "      <td>842517</td>\n",
              "      <td>M</td>\n",
              "      <td>20.57</td>\n",
              "      <td>17.77</td>\n",
              "      <td>132.90</td>\n",
              "      <td>1326.0</td>\n",
              "      <td>0.08474</td>\n",
              "      <td>0.07864</td>\n",
              "      <td>0.0869</td>\n",
              "      <td>0.07017</td>\n",
              "      <td>0.1812</td>\n",
              "      <td>0.05667</td>\n",
              "      <td>0.5435</td>\n",
              "      <td>0.7339</td>\n",
              "      <td>3.398</td>\n",
              "      <td>74.08</td>\n",
              "      <td>0.005225</td>\n",
              "      <td>0.01308</td>\n",
              "      <td>0.01860</td>\n",
              "      <td>0.01340</td>\n",
              "      <td>0.01389</td>\n",
              "      <td>0.003532</td>\n",
              "      <td>24.99</td>\n",
              "      <td>23.41</td>\n",
              "      <td>158.80</td>\n",
              "      <td>1956.0</td>\n",
              "      <td>0.1238</td>\n",
              "      <td>0.1866</td>\n",
              "      <td>0.2416</td>\n",
              "      <td>0.1860</td>\n",
              "      <td>0.2750</td>\n",
              "      <td>0.08902</td>\n",
              "    </tr>\n",
              "    <tr>\n",
              "      <th>2</th>\n",
              "      <td>84300903</td>\n",
              "      <td>M</td>\n",
              "      <td>19.69</td>\n",
              "      <td>21.25</td>\n",
              "      <td>130.00</td>\n",
              "      <td>1203.0</td>\n",
              "      <td>0.10960</td>\n",
              "      <td>0.15990</td>\n",
              "      <td>0.1974</td>\n",
              "      <td>0.12790</td>\n",
              "      <td>0.2069</td>\n",
              "      <td>0.05999</td>\n",
              "      <td>0.7456</td>\n",
              "      <td>0.7869</td>\n",
              "      <td>4.585</td>\n",
              "      <td>94.03</td>\n",
              "      <td>0.006150</td>\n",
              "      <td>0.04006</td>\n",
              "      <td>0.03832</td>\n",
              "      <td>0.02058</td>\n",
              "      <td>0.02250</td>\n",
              "      <td>0.004571</td>\n",
              "      <td>23.57</td>\n",
              "      <td>25.53</td>\n",
              "      <td>152.50</td>\n",
              "      <td>1709.0</td>\n",
              "      <td>0.1444</td>\n",
              "      <td>0.4245</td>\n",
              "      <td>0.4504</td>\n",
              "      <td>0.2430</td>\n",
              "      <td>0.3613</td>\n",
              "      <td>0.08758</td>\n",
              "    </tr>\n",
              "    <tr>\n",
              "      <th>3</th>\n",
              "      <td>84348301</td>\n",
              "      <td>M</td>\n",
              "      <td>11.42</td>\n",
              "      <td>20.38</td>\n",
              "      <td>77.58</td>\n",
              "      <td>386.1</td>\n",
              "      <td>0.14250</td>\n",
              "      <td>0.28390</td>\n",
              "      <td>0.2414</td>\n",
              "      <td>0.10520</td>\n",
              "      <td>0.2597</td>\n",
              "      <td>0.09744</td>\n",
              "      <td>0.4956</td>\n",
              "      <td>1.1560</td>\n",
              "      <td>3.445</td>\n",
              "      <td>27.23</td>\n",
              "      <td>0.009110</td>\n",
              "      <td>0.07458</td>\n",
              "      <td>0.05661</td>\n",
              "      <td>0.01867</td>\n",
              "      <td>0.05963</td>\n",
              "      <td>0.009208</td>\n",
              "      <td>14.91</td>\n",
              "      <td>26.50</td>\n",
              "      <td>98.87</td>\n",
              "      <td>567.7</td>\n",
              "      <td>0.2098</td>\n",
              "      <td>0.8663</td>\n",
              "      <td>0.6869</td>\n",
              "      <td>0.2575</td>\n",
              "      <td>0.6638</td>\n",
              "      <td>0.17300</td>\n",
              "    </tr>\n",
              "    <tr>\n",
              "      <th>4</th>\n",
              "      <td>84358402</td>\n",
              "      <td>M</td>\n",
              "      <td>20.29</td>\n",
              "      <td>14.34</td>\n",
              "      <td>135.10</td>\n",
              "      <td>1297.0</td>\n",
              "      <td>0.10030</td>\n",
              "      <td>0.13280</td>\n",
              "      <td>0.1980</td>\n",
              "      <td>0.10430</td>\n",
              "      <td>0.1809</td>\n",
              "      <td>0.05883</td>\n",
              "      <td>0.7572</td>\n",
              "      <td>0.7813</td>\n",
              "      <td>5.438</td>\n",
              "      <td>94.44</td>\n",
              "      <td>0.011490</td>\n",
              "      <td>0.02461</td>\n",
              "      <td>0.05688</td>\n",
              "      <td>0.01885</td>\n",
              "      <td>0.01756</td>\n",
              "      <td>0.005115</td>\n",
              "      <td>22.54</td>\n",
              "      <td>16.67</td>\n",
              "      <td>152.20</td>\n",
              "      <td>1575.0</td>\n",
              "      <td>0.1374</td>\n",
              "      <td>0.2050</td>\n",
              "      <td>0.4000</td>\n",
              "      <td>0.1625</td>\n",
              "      <td>0.2364</td>\n",
              "      <td>0.07678</td>\n",
              "    </tr>\n",
              "  </tbody>\n",
              "</table>\n",
              "</div>"
            ],
            "text/plain": [
              "         id diagnosis  ...  symmetry_worst  fractal_dimension_worst\n",
              "0    842302         M  ...          0.4601                  0.11890\n",
              "1    842517         M  ...          0.2750                  0.08902\n",
              "2  84300903         M  ...          0.3613                  0.08758\n",
              "3  84348301         M  ...          0.6638                  0.17300\n",
              "4  84358402         M  ...          0.2364                  0.07678\n",
              "\n",
              "[5 rows x 32 columns]"
            ]
          },
          "metadata": {
            "tags": []
          },
          "execution_count": 12
        }
      ]
    },
    {
      "cell_type": "code",
      "metadata": {
        "id": "RoOoyQ_xQO3F",
        "colab": {
          "base_uri": "https://localhost:8080/"
        },
        "outputId": "3582cc0f-f255-4fc2-d224-cd2215206008"
      },
      "source": [
        "feature = ['texture_mean','radius_mean']\n",
        "mean_M = []\n",
        "mean_B = []\n",
        "sigmas = [[0]*len(feature)]*len(feature)\n",
        "s=[]\n",
        "c =0 \n",
        "for i in feature:\n",
        "  mean1, mean2 = df.groupby('diagnosis')[i].mean()\n",
        "  sigma = np.sqrt((((df[i][df['diagnosis'] == 'M'] - mean1)**2).sum()+\n",
        "        ((df[i][df['diagnosis'] == 'B'] - mean2)**2).sum())/(len(df)-2))\n",
        "  mean_M.append(mean1)\n",
        "  mean_B.append(mean2)\n",
        "  s.append(sigma)\n",
        "  c+=1\n",
        "s"
      ],
      "execution_count": null,
      "outputs": [
        {
          "output_type": "execute_result",
          "data": {
            "text/plain": [
              "[5.385376825786032, 5.845801705237528]"
            ]
          },
          "metadata": {
            "tags": []
          },
          "execution_count": 13
        }
      ]
    },
    {
      "cell_type": "code",
      "metadata": {
        "id": "slcswsyCQ_Xo"
      },
      "source": [
        "sigmas = [[5.38,0],[0,5.84]]"
      ],
      "execution_count": null,
      "outputs": []
    },
    {
      "cell_type": "code",
      "metadata": {
        "id": "1mSD0HBJ6310"
      },
      "source": [
        "freq_table = df.diagnosis.value_counts()"
      ],
      "execution_count": null,
      "outputs": []
    },
    {
      "cell_type": "code",
      "metadata": {
        "colab": {
          "base_uri": "https://localhost:8080/"
        },
        "id": "capnyf4A7JuE",
        "outputId": "f1e84721-ac10-401b-c13d-dcf92b6739f5"
      },
      "source": [
        "freq_table"
      ],
      "execution_count": null,
      "outputs": [
        {
          "output_type": "execute_result",
          "data": {
            "text/plain": [
              "B    357\n",
              "M    212\n",
              "Name: diagnosis, dtype: int64"
            ]
          },
          "metadata": {
            "tags": []
          },
          "execution_count": 16
        }
      ]
    },
    {
      "cell_type": "code",
      "metadata": {
        "id": "CWjDE6Bd69zx",
        "colab": {
          "base_uri": "https://localhost:8080/"
        },
        "outputId": "3119378a-5d35-4ebb-caab-41e0597cc133"
      },
      "source": [
        "pr_M = freq_table['M']/sum(freq_table)\n",
        "pr_B= freq_table['B']/sum(freq_table)\n",
        "pr_M,pr_B"
      ],
      "execution_count": null,
      "outputs": [
        {
          "output_type": "execute_result",
          "data": {
            "text/plain": [
              "(0.37258347978910367, 0.6274165202108963)"
            ]
          },
          "metadata": {
            "tags": []
          },
          "execution_count": 17
        }
      ]
    },
    {
      "cell_type": "code",
      "metadata": {
        "id": "VzZup-mI7OdZ",
        "colab": {
          "base_uri": "https://localhost:8080/"
        },
        "outputId": "5323d278-ed03-482f-ddf1-39d8cb4fd50e"
      },
      "source": [
        "val = [10,20]\n",
        "Malignant = np.transpose(val).dot(np.linalg.inv(sigmas)).dot(mean_M) - 1/2*np.transpose(mean_M).dot(np.linalg.inv(sigmas)).dot(mean_M)+pr_M\n",
        "Benign = np.transpose(val).dot(np.linalg.inv(sigmas)).dot(mean_B) - 1/2*np.transpose(mean_B).dot(np.linalg.inv(sigmas)).dot(mean_B)+pr_B\n",
        "Malignant,Benign"
      ],
      "execution_count": null,
      "outputs": [
        {
          "output_type": "execute_result",
          "data": {
            "text/plain": [
              "(32.810383964697785, 31.10038369377521)"
            ]
          },
          "metadata": {
            "tags": []
          },
          "execution_count": 18
        }
      ]
    },
    {
      "cell_type": "code",
      "metadata": {
        "id": "YgX_HMQqbDbA"
      },
      "source": [
        "ypred = []\n",
        "for i in range(len(df)):\n",
        "  val = [df['texture_mean'][i],df['radius_mean'][i]]\n",
        "  Malignant = np.transpose(val).dot(np.linalg.inv(sigmas)).dot(mean_M) - 1/2*np.transpose(mean_M).dot(np.linalg.inv(sigmas)).dot(mean_M)+pr_M\n",
        "  Benign = np.transpose(val).dot(np.linalg.inv(sigmas)).dot(mean_B) - 1/2*np.transpose(mean_B).dot(np.linalg.inv(sigmas)).dot(mean_B)+pr_B\n",
        "  if Malignant > Benign:\n",
        "    ypred.append('M')\n",
        "  else:\n",
        "    ypred.append('B')\n"
      ],
      "execution_count": null,
      "outputs": []
    },
    {
      "cell_type": "code",
      "metadata": {
        "colab": {
          "base_uri": "https://localhost:8080/"
        },
        "id": "K8yY3dnhb8yr",
        "outputId": "5e7ca937-cd70-4678-c545-65cde195f1c2"
      },
      "source": [
        "from sklearn.metrics import confusion_matrix\n",
        "y = df['diagnosis']\n",
        "confusion_matrix(y, ypred)"
      ],
      "execution_count": null,
      "outputs": [
        {
          "output_type": "execute_result",
          "data": {
            "text/plain": [
              "array([[ 45, 312],\n",
              "       [183,  29]])"
            ]
          },
          "metadata": {
            "tags": []
          },
          "execution_count": 24
        }
      ]
    },
    {
      "cell_type": "code",
      "metadata": {
        "id": "NL7C4QZ2WzDQ",
        "colab": {
          "base_uri": "https://localhost:8080/"
        },
        "outputId": "cbc836bf-df52-4835-fa73-066edbffc5fb"
      },
      "source": [
        "%%R\n",
        "bdiag.data     <- \n",
        "  read.csv(\"/content/drive/MyDrive/bdiag.csv\", \n",
        "           stringsAsFactors = TRUE)\n",
        "library(MASS)\n",
        "lda.model3 <- lda(diagnosis~texture_mean+radius_mean,data=bdiag.data)\n",
        "#predictions\n",
        "pred.dataset3 <- predict(lda.model3)$class\n",
        "#confusion matrix\n",
        "table(bdiag.data$diagnosis, pred.dataset3)\n"
      ],
      "execution_count": null,
      "outputs": [
        {
          "output_type": "stream",
          "text": [
            "   pred.dataset3\n",
            "      B   M\n",
            "  B 345  12\n",
            "  M  53 159\n"
          ],
          "name": "stdout"
        }
      ]
    }
  ]
}